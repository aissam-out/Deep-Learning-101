{
  "nbformat": 4,
  "nbformat_minor": 0,
  "metadata": {
    "colab": {
      "name": "download_kaggle_data.ipynb",
      "version": "0.3.2",
      "provenance": [],
      "include_colab_link": true
    },
    "kernelspec": {
      "name": "python3",
      "display_name": "Python 3"
    }
  },
  "cells": [
    {
      "cell_type": "markdown",
      "metadata": {
        "id": "view-in-github",
        "colab_type": "text"
      },
      "source": [
        "<a href=\"https://colab.research.google.com/github/aissam-out/kaggle_0/blob/master/download_kaggle_data.ipynb\" target=\"_parent\"><img src=\"https://colab.research.google.com/assets/colab-badge.svg\" alt=\"Open In Colab\"/></a>"
      ]
    },
    {
      "cell_type": "markdown",
      "metadata": {
        "id": "A-aSJ1g2cAm_",
        "colab_type": "text"
      },
      "source": [
        "# DOWNLOAD KAGGLE DATA INTO GOOGLE COLAB"
      ]
    },
    {
      "cell_type": "markdown",
      "metadata": {
        "id": "HElB8hmxcISr",
        "colab_type": "text"
      },
      "source": [
        "In this tutorial we are about to understand how to transfer kaggle's datasets **directely** from your Kaggle space to your Google Drive, without downloading the data into your computer. "
      ]
    },
    {
      "cell_type": "code",
      "metadata": {
        "id": "ZPC-E__0_37G",
        "colab_type": "code",
        "colab": {}
      },
      "source": [
        "from google.colab import auth\n",
        "auth.authenticate_user()\n",
        "from oauth2client.client import GoogleCredentials\n",
        "creds = GoogleCredentials.get_application_default()"
      ],
      "execution_count": 0,
      "outputs": []
    },
    {
      "cell_type": "code",
      "metadata": {
        "id": "N6SYpYFFAw8l",
        "colab_type": "code",
        "colab": {}
      },
      "source": [
        "from google.colab import drive\n",
        "drive.mount('/content/gdrive')"
      ],
      "execution_count": 0,
      "outputs": []
    },
    {
      "cell_type": "code",
      "metadata": {
        "id": "yU07a6KzA0_P",
        "colab_type": "code",
        "outputId": "c4c5ea41-d7f2-4108-f89c-2b99bbd95ecf",
        "colab": {
          "base_uri": "https://localhost:8080/",
          "height": 70
        }
      },
      "source": [
        "%cd /content/gdrive/'My Drive'/'Colab Notebooks'/kaggle_NYC_taxi\n",
        "!ls -l"
      ],
      "execution_count": 0,
      "outputs": [
        {
          "output_type": "stream",
          "text": [
            "/content/gdrive/My Drive/Colab Notebooks/kaggle_NYC_taxi\n",
            "total 3\n",
            "-rw------- 1 root root 2854 Feb 17 20:06 Untitled0.ipynb\n"
          ],
          "name": "stdout"
        }
      ]
    },
    {
      "cell_type": "markdown",
      "metadata": {
        "id": "co7asQDXHbur",
        "colab_type": "text"
      },
      "source": [
        "To download data from Kaggle, you first need to get your api key from this link https://www.kaggle.com/{username}/account then click in Create New API Token.  It will download a json file."
      ]
    },
    {
      "cell_type": "code",
      "metadata": {
        "id": "1UXv4yoPF0ZY",
        "colab_type": "code",
        "colab": {}
      },
      "source": [
        "!pip install -U -q kaggle\n",
        "!mkdir -p ~/.kaggle\n",
        "!echo '{\"username\":\"aissamout\",\"key\":\"..................\"}' > ~/.kaggle/kaggle.json\n",
        "!chmod 600 ~/.kaggle/kaggle.json"
      ],
      "execution_count": 0,
      "outputs": []
    },
    {
      "cell_type": "markdown",
      "metadata": {
        "id": "ZZzjOhKTIBIk",
        "colab_type": "text"
      },
      "source": [
        "This will install kaggle python lib and tell it which are your credentials.\n",
        "\n",
        "Then we can download the data by typing\n",
        "\n"
      ]
    },
    {
      "cell_type": "code",
      "metadata": {
        "id": "CZXLomTJH53-",
        "colab_type": "code",
        "colab": {}
      },
      "source": [
        "!mkdir -p data"
      ],
      "execution_count": 0,
      "outputs": []
    },
    {
      "cell_type": "markdown",
      "metadata": {
        "id": "Jg93FfMCI24F",
        "colab_type": "text"
      },
      "source": [
        "Note that you must be registered in the competition from which you want to get the data, and the data will be download to the virtual machine, you can now read it into python."
      ]
    },
    {
      "cell_type": "code",
      "metadata": {
        "id": "kDm1Ir6TIJEJ",
        "colab_type": "code",
        "outputId": "b26b3138-e85d-420b-a771-f9312b9087d6",
        "colab": {
          "base_uri": "https://localhost:8080/",
          "height": 175
        }
      },
      "source": [
        "!kaggle competitions download -c nyc-taxi-trip-duration -p data"
      ],
      "execution_count": 0,
      "outputs": [
        {
          "output_type": "stream",
          "text": [
            "Downloading sample_submission.zip to data\n",
            "\r  0% 0.00/2.49M [00:00<?, ?B/s]\n",
            "100% 2.49M/2.49M [00:00<00:00, 40.6MB/s]\n",
            "Downloading test.zip to data\n",
            " 54% 11.0M/20.3M [00:00<00:00, 111MB/s]\n",
            "100% 20.3M/20.3M [00:00<00:00, 99.5MB/s]\n",
            "Downloading train.zip to data\n",
            " 92% 58.0M/62.9M [00:01<00:00, 29.3MB/s]\n",
            "100% 62.9M/62.9M [00:01<00:00, 48.2MB/s]\n"
          ],
          "name": "stdout"
        }
      ]
    },
    {
      "cell_type": "code",
      "metadata": {
        "id": "enEys9UNILLb",
        "colab_type": "code",
        "outputId": "7f208c0c-174d-475c-dbf5-1a904fad12ac",
        "colab": {
          "base_uri": "https://localhost:8080/",
          "height": 52
        }
      },
      "source": [
        "%cd data\n",
        "!ls"
      ],
      "execution_count": 0,
      "outputs": [
        {
          "output_type": "stream",
          "text": [
            "/content/gdrive/My Drive/Colab Notebooks/kaggle_NYC_taxi/data\n",
            "sample_submission.zip  test.zip  train.zip\n"
          ],
          "name": "stdout"
        }
      ]
    },
    {
      "cell_type": "code",
      "metadata": {
        "id": "NUHZsIqzJLCY",
        "colab_type": "code",
        "outputId": "c0988503-d3d6-4afb-aeca-3f9a8053573a",
        "colab": {
          "base_uri": "https://localhost:8080/",
          "height": 123
        }
      },
      "source": [
        "!unzip sample_submission.zip\n",
        "!unzip test.zip\n",
        "!unzip train.zip"
      ],
      "execution_count": 0,
      "outputs": [
        {
          "output_type": "stream",
          "text": [
            "Archive:  sample_submission.zip\n",
            "  inflating: sample_submission.csv   \n",
            "Archive:  test.zip\n",
            "  inflating: test.csv                \n",
            "Archive:  train.zip\n",
            "  inflating: train.csv               \n"
          ],
          "name": "stdout"
        }
      ]
    },
    {
      "cell_type": "code",
      "metadata": {
        "id": "B5u-p-okLdGJ",
        "colab_type": "code",
        "colab": {}
      },
      "source": [
        "!rm sample_submission.zip  test.zip  train.zip"
      ],
      "execution_count": 0,
      "outputs": []
    },
    {
      "cell_type": "code",
      "metadata": {
        "id": "OS90-31KJrXI",
        "colab_type": "code",
        "outputId": "83dd28b5-eb2c-434e-940b-8b6921bc50fb",
        "colab": {
          "base_uri": "https://localhost:8080/",
          "height": 35
        }
      },
      "source": [
        "!ls"
      ],
      "execution_count": 0,
      "outputs": [
        {
          "output_type": "stream",
          "text": [
            "sample_submission.csv  test.csv  train.csv\n"
          ],
          "name": "stdout"
        }
      ]
    },
    {
      "cell_type": "code",
      "metadata": {
        "id": "QigTkbvFJtnv",
        "colab_type": "code",
        "colab": {}
      },
      "source": [
        ""
      ],
      "execution_count": 0,
      "outputs": []
    }
  ]
}